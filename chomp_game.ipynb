{
 "cells": [
  {
   "cell_type": "code",
   "execution_count": 1,
   "metadata": {},
   "outputs": [],
   "source": [
    "import numpy as np\n",
    "import random\n",
    "import pandas as pd"
   ]
  },
  {
   "cell_type": "markdown",
   "metadata": {},
   "source": [
    "# 1. Crear el juego"
   ]
  },
  {
   "cell_type": "code",
   "execution_count": 2,
   "metadata": {},
   "outputs": [],
   "source": [
    "def crear_matriz(filas,columnas):\n",
    "    matriz = []\n",
    "    for fila in range(filas):\n",
    "        fila = []\n",
    "        for columna in range(columnas):\n",
    "            fila.append(\"D\")\n",
    "        \n",
    "        matriz.append(fila)\n",
    "    \n",
    "    matriz[filas-1][0] = \"L\"\n",
    "    matriz = np.array(matriz)\n",
    "    return matriz\n",
    "\n",
    "def imprimir(matriz):\n",
    "    i=0\n",
    "    columnas = [\"f\\c\"]\n",
    "    for columna in range(1,len(matriz[0])+1):\n",
    "        columnas.append(columna)\n",
    "    print(20*\" \", *columnas,sep=\"  \")\n",
    "    i=0\n",
    "    while i<len(matriz):\n",
    "        print(23*\" \"+str(i+1)+\" \",*matriz[i],sep=\"  \")\n",
    "        i+=1\n",
    "        \n",
    "def perder(fila_elegida,columna_elegida,matriz):\n",
    "    if fila_elegida == len(matriz) and columna_elegida == 1:\n",
    "        return (\"PERDIÓ\")\n",
    "    else:\n",
    "        pass\n",
    "\n",
    "def eliminacion(matriz):\n",
    "    fila_elegida = random.randint(0,len(matriz)-1)\n",
    "    columna_elegida = random.randint(0,len(matriz[0])-1)\n",
    "    \n",
    "    disponibles = np.count_nonzero(matriz==\"D\")\n",
    "                \n",
    "    while matriz[fila_elegida][columna_elegida]==\"X\" or (disponibles>=1 and matriz[fila_elegida][columna_elegida]==\"L\" ) :\n",
    "        fila_elegida = random.randint(0,len(matriz)-1)\n",
    "        columna_elegida = random.randint(0,len(matriz[0])-1)\n",
    "    \n",
    "    columnas_totales = len(matriz[0])\n",
    "    for fila in range(0,fila_elegida+1):\n",
    "        for columna in range(columna_elegida,columnas_totales):\n",
    "            matriz[fila][columna]=\"X\"\n",
    "    if perder(fila_elegida+1,columna_elegida+1,matriz) == \"PERDIÓ\":\n",
    "        seguir = False\n",
    "    else:\n",
    "        seguir = True\n",
    "        \n",
    "    return fila_elegida,columna_elegida,seguir,matriz\n",
    "\n",
    "def eliminar_manual(fila_elegida,columna_elegida,matriz):\n",
    "    fila_elegida-=1\n",
    "    columna_elegida-=1\n",
    "    columnas_totales = len(matriz[0])\n",
    "    for fila in range(0,fila_elegida+1):\n",
    "        for columna in range(columna_elegida,columnas_totales):\n",
    "            matriz[fila][columna]=\"X\"\n",
    "    #imprimir(matriz)\n",
    "    if perder(fila_elegida+1,columna_elegida+1,matriz) ==\"PERDIÓ\":\n",
    "        #print(\"PERDIÓ\")\n",
    "        r= False\n",
    "    else:\n",
    "        r = True\n",
    "        pass\n",
    "    return r\n",
    "\n",
    "def primeras_jugadas(tamano: str):\n",
    "    filas = int(tamano[0])\n",
    "    columnas = int(tamano[2])\n",
    "    primeras_jugadas = []\n",
    "    for fila in range(filas):\n",
    "        for columna in range(columnas):\n",
    "            if fila==filas-1 and columna==0:\n",
    "                pass\n",
    "            else:\n",
    "                primeras_jugadas.append(str(fila+1)+str(columna+1))\n",
    "    return primeras_jugadas\n",
    "\n",
    "def juego(tamano = \"2x3\",primera_jugada=\"0\"):\n",
    "    filas = int(tamano[0])\n",
    "    columnas=int(tamano[2])\n",
    "    \n",
    "    #print(\" \")\n",
    "    matriz = crear_matriz(filas,columnas)\n",
    "    #imprimir(matriz)\n",
    "    #print(\" \")\n",
    "    #print(\"Escoja sus movimientos, la máquina jugará automáticamente después de usted.\\nDebe escoger la posicion de la fila y columna. Por ejemplo: 13 es fila 1 columna 3\")\n",
    "    jugar = True\n",
    "    jugadas_jugador = []\n",
    "    jugadas_computadora = []\n",
    "    turno=1\n",
    "    if primera_jugada!=\"0\":\n",
    "        #print(turno)\n",
    "        #print(\"JUGADOR:\")\n",
    "        eliminar_manual(int(primera_jugada[0]),int(primera_jugada[1]),matriz)\n",
    "        jugadas_jugador.append(int(primera_jugada))\n",
    "        #imprimir(matriz)\n",
    "    \n",
    "    while jugar:\n",
    "        if primera_jugada==\"0\" or turno>1:\n",
    "            #print(turno)\n",
    "            #print(\"JUGADOR:\")\n",
    "            jugada = eliminacion(matriz)\n",
    "            #imprimir(jugada[3])\n",
    "            jugadas_jugador.append(int(str(jugada[0]+1)+str(jugada[1]+1)))\n",
    "            jugar=jugada[2]\n",
    "        if jugar ==True:\n",
    "            #print(\"MÁQUINA:\")\n",
    "            jugada = eliminacion(matriz)\n",
    "            #imprimir(jugada[3])\n",
    "            jugadas_computadora.append(int(str(jugada[0]+1)+str(jugada[1]+1)))\n",
    "            jugar = jugada[2]\n",
    "            if jugar == False:\n",
    "                respuesta = -1\n",
    "        else:\n",
    "            respuesta = 1\n",
    "            break\n",
    "        \n",
    "        turno+=1\n",
    "    if respuesta ==-1:\n",
    "        pass\n",
    "        #print(\"GANÓ EL JUGADOR\")\n",
    "    else:\n",
    "        pass\n",
    "        #print(\"GANÓ LA MÁQUINA\")\n",
    "\n",
    "    return tamano,jugadas_jugador,jugadas_computadora,respuesta"
   ]
  },
  {
   "cell_type": "code",
   "execution_count": 3,
   "metadata": {},
   "outputs": [
    {
     "data": {
      "text/plain": [
       "('4x7', [33, 21, 41], [42, 31], 1)"
      ]
     },
     "execution_count": 3,
     "metadata": {},
     "output_type": "execute_result"
    }
   ],
   "source": [
    "juego(tamano=\"4x7\",primera_jugada=\"33\")"
   ]
  },
  {
   "cell_type": "markdown",
   "metadata": {},
   "source": [
    "# 2. Crear los datos de entrenamiento"
   ]
  },
  {
   "cell_type": "code",
   "execution_count": 4,
   "metadata": {},
   "outputs": [],
   "source": [
    "datos = {\"tamano\":[],\"jugadas_jugador\":[],\"jugadas_computadora\":[],\"resultado\":[]}\n",
    "#df = pd.DataFrame(dicc)"
   ]
  },
  {
   "cell_type": "code",
   "execution_count": 5,
   "metadata": {},
   "outputs": [
    {
     "name": "stdout",
     "output_type": "stream",
     "text": [
      "CPU times: user 777 ms, sys: 8.25 ms, total: 785 ms\n",
      "Wall time: 798 ms\n"
     ]
    }
   ],
   "source": [
    "%%time\n",
    "simulaciones = 1000\n",
    "tamano = \"2x3\"\n",
    "primerasjugadas = primeras_jugadas(tamano)\n",
    "\n",
    "for primerajugada in primerasjugadas:\n",
    "    for simulacion in range(simulaciones):\n",
    "        tamano,jugadas_jugador,jugadas_computadora,resultado = juego(tamano=tamano,primera_jugada=primerajugada)\n",
    "        datos[\"tamano\"].append(tamano)\n",
    "        datos[\"jugadas_jugador\"].append(jugadas_jugador)\n",
    "        datos[\"jugadas_computadora\"].append(jugadas_computadora)\n",
    "        datos[\"resultado\"].append(resultado)\n"
   ]
  },
  {
   "cell_type": "code",
   "execution_count": 6,
   "metadata": {},
   "outputs": [
    {
     "data": {
      "text/plain": [
       "5000"
      ]
     },
     "execution_count": 6,
     "metadata": {},
     "output_type": "execute_result"
    }
   ],
   "source": [
    "len(datos[\"tamano\"])"
   ]
  },
  {
   "cell_type": "code",
   "execution_count": 23,
   "metadata": {},
   "outputs": [
    {
     "name": "stdout",
     "output_type": "stream",
     "text": [
      "CPU times: user 14.8 s, sys: 59.9 ms, total: 14.8 s\n",
      "Wall time: 14.9 s\n"
     ]
    }
   ],
   "source": [
    "%%time\n",
    "# PARA TAMAÑO 4x7\n",
    "simulaciones = 1000\n",
    "tamano = \"4x7\"\n",
    "primerasjugadas = primeras_jugadas(tamano)\n",
    "\n",
    "for primerajugada in primerasjugadas:\n",
    "    for simulacion in range(simulaciones):\n",
    "        tamano,jugadas_jugador,jugadas_computadora,resultado = juego(tamano=tamano,primera_jugada=primerajugada)\n",
    "        datos[\"tamano\"].append(tamano)\n",
    "        datos[\"jugadas_jugador\"].append(jugadas_jugador)\n",
    "        datos[\"jugadas_computadora\"].append(jugadas_computadora)\n",
    "        datos[\"resultado\"].append(resultado)"
   ]
  },
  {
   "cell_type": "code",
   "execution_count": 24,
   "metadata": {},
   "outputs": [],
   "source": [
    "df=pd.DataFrame(datos)"
   ]
  },
  {
   "cell_type": "code",
   "execution_count": 908,
   "metadata": {},
   "outputs": [],
   "source": [
    "def crear_instancia(tamano=\"2x3\",turno=1,df=df,jugada_jugador=\"0\",jugada_computadora=\"0\"):\n",
    "    if jugada_computadora == \"0\":\n",
    "        instancia = df.loc[df[\"tamano\"]==tamano].copy()\n",
    "        instancia[str(turno)]=instancia['jugadas_jugador'].apply(lambda x: 'True' if x[turno-1] == int(jugada_jugador) else 'False')\n",
    "        instancia = instancia.loc[(instancia[str(turno)]==\"True\")].copy()\n",
    "    elif jugada_jugador==\"0\":\n",
    "\n",
    "        instancia = df.loc[df[\"tamano\"]==tamano].copy()\n",
    "        instancia[str(turno)+\"c\"]=instancia['jugadas_computadora'].apply(lambda x: 'True' if x[turno-2] == int(jugada_computadora) else 'False')\n",
    "        instancia = instancia.loc[(instancia[str(turno)+\"c\"]==\"True\")].copy()\n",
    "    else:\n",
    "        instancia = df.loc[df[\"tamano\"]==tamano].copy()\n",
    "        instancia[str(turno)]=instancia['jugadas_jugador'].apply(lambda x: 'True' if x[turno-1] == int(jugada_jugador) else 'False')\n",
    "        instancia[str(turno)+\"c\"]=instancia['jugadas_computadora'].apply(lambda x: 'True' if x[turno-2] == int(jugada_computadora) else 'False')\n",
    "        instancia = instancia.loc[(instancia[str(turno)]==\"True\") & (instancia[str(turno)+\"c\"]==\"True\")].copy()\n",
    "    return instancia.reset_index(drop=True)\n",
    "\n",
    "def mejor_respuesta(turno=1,instancia=None):\n",
    "    respuestas = []\n",
    "    for jugada_computadora in instancia[\"jugadas_computadora\"]:\n",
    "        respuestas.append(jugada_computadora[turno-1])\n",
    "    respuestas=list(set(respuestas))\n",
    "\n",
    "    mejores_respuesta = []\n",
    "    for respuesta in respuestas:\n",
    "        instancia[str(turno)+\"r\"]=instancia['jugadas_computadora'].apply(lambda x: 'True' if x[turno-1] == respuesta else 'False')\n",
    "        suma = instancia.loc[instancia[str(turno)+\"r\"]==\"True\"][\"resultado\"].sum()\n",
    "        mejores_respuesta.append((respuesta,suma))\n",
    "        \n",
    "    mejores_respuesta.sort(key=lambda tup: tup[1],reverse=True)\n",
    "    \n",
    "    return mejores_respuesta[0]\n",
    "\n",
    "def mejor_respuesta_jugador(turno=1,instancia=None):\n",
    "    respuestas = []\n",
    "    for jugada_computadora in instancia[\"jugadas_jugador\"]:\n",
    "        respuestas.append(jugada_computadora[turno-1])\n",
    "    respuestas=list(set(respuestas))\n",
    "\n",
    "    mejores_respuesta = []\n",
    "    for respuesta in respuestas:\n",
    "        instancia[str(turno)+\"r\"]=instancia['jugadas_jugador'].apply(lambda x: 'True' if x[turno-1] == respuesta else 'False')\n",
    "        suma = instancia.loc[instancia[str(turno)+\"r\"]==\"True\"][\"resultado\"].sum()\n",
    "        mejores_respuesta.append((respuesta,suma))\n",
    "        \n",
    "    mejores_respuesta.sort(key=lambda tup: tup[1])\n",
    "\n",
    "    return mejores_respuesta[0]"
   ]
  },
  {
   "cell_type": "code",
   "execution_count": 13,
   "metadata": {},
   "outputs": [],
   "source": [
    "instancia_creada = crear_instancia(tamano=\"4x7\",turno=1,jugada_jugador=\"12\")\n",
    "respuesta = mejor_respuesta(turno=1,instancia=instancia_creada)\n",
    "#instancia = crear_instancia(turno=2,jugada_jugador=\"22\",df=instancia,jugada_computadora=respuesta)\n",
    "#respuesta = mejor_respuesta(turno=2,instancia=instancia)\n",
    "#respuesta\n",
    "#instancia = crear_instancia(turno=3,jugada_jugador=\"21\",df=instancia,jugada_computadora=)"
   ]
  },
  {
   "cell_type": "code",
   "execution_count": 14,
   "metadata": {},
   "outputs": [
    {
     "data": {
      "text/plain": [
       "'42'"
      ]
     },
     "execution_count": 14,
     "metadata": {},
     "output_type": "execute_result"
    }
   ],
   "source": []
  },
  {
   "cell_type": "markdown",
   "metadata": {},
   "source": [
    "# 3. Creo el juego con los datos de entrenamiento"
   ]
  },
  {
   "cell_type": "code",
   "execution_count": 316,
   "metadata": {},
   "outputs": [],
   "source": [
    "def juego2(tamano = \"2x3\",primera_jugada=\"0\"):\n",
    "    filas = int(tamano[0])\n",
    "    columnas=int(tamano[2])\n",
    "    \n",
    "    print(\" \")\n",
    "    matriz = crear_matriz(filas,columnas)\n",
    "    imprimir(matriz)\n",
    "    print(\" \")\n",
    "    print(\"Escoja sus movimientos, la máquina jugará automáticamente después de usted.\\nDebe escoger la posicion de la fila y columna. Por ejemplo: 13 es fila 1 columna 3\")\n",
    "    jugar = True\n",
    "    jugadas_jugador = []\n",
    "    jugadas_computadora = [\"0\"]\n",
    "    turno=1\n",
    "    if primera_jugada!=\"0\":\n",
    "        print(turno)\n",
    "        print(\"JUGADOR:\")\n",
    "        eliminar_manual(int(primera_jugada[0]),int(primera_jugada[1]),matriz)\n",
    "        jugadas_jugador.append(int(primera_jugada))\n",
    "        imprimir(matriz)\n",
    "    \n",
    "    while jugar:\n",
    "        if primera_jugada==\"0\" or turno>1:\n",
    "            print(turno)\n",
    "            print(\"JUGADOR:\")\n",
    "            jugada = eliminacion(matriz)\n",
    "            imprimir(jugada[3])\n",
    "            jugadas_jugador.append(int(str(jugada[0]+1)+str(jugada[1]+1)))\n",
    "            jugar=jugada[2]\n",
    "        if jugar ==True:\n",
    "            print(\"MÁQUINA:\")\n",
    "            try:\n",
    "                if turno==1:\n",
    "                    instancia_c = crear_instancia(tamano=tamano,turno=turno,jugada_jugador=jugadas_jugador[turno-1],jugada_computadora=jugadas_computadora[turno-1])\n",
    "                else:\n",
    "                    instancia_c = crear_instancia(tamano=tamano,turno=turno,df=instancia_c,jugada_jugador=jugadas_jugador[turno-1],jugada_computadora=jugadas_computadora[turno-1])\n",
    "                best_response = mejor_respuesta(turno=turno,instancia=instancia_c)\n",
    "                jugadas_computadora.append(best_response)\n",
    "                jugar = eliminar_manual(int(best_response[0]),int(best_response[1]),matriz)\n",
    "            except:\n",
    "                jugada = eliminacion(matriz)\n",
    "                jugadas_computadora.append(int(str(jugada[0]+1)+str(jugada[1]+1)))\n",
    "                jugar = jugada[2]\n",
    "            imprimir(matriz)\n",
    "            if jugar == False:\n",
    "                respuesta = -1\n",
    "        else:\n",
    "            respuesta = 1\n",
    "            break\n",
    "        \n",
    "        turno+=1\n",
    "    if respuesta ==-1:\n",
    "        pass\n",
    "        print(\"GANÓ EL JUGADOR\")\n",
    "    else:\n",
    "        pass\n",
    "        print(\"GANÓ LA MÁQUINA\")\n",
    "\n",
    "    return tamano,jugadas_jugador,jugadas_computadora,respuesta"
   ]
  },
  {
   "cell_type": "code",
   "execution_count": 317,
   "metadata": {},
   "outputs": [
    {
     "name": "stdout",
     "output_type": "stream",
     "text": [
      " \n",
      "                      f\\c  1  2  3  4  5  6  7\n",
      "                       1   D  D  D  D  D  D  D\n",
      "                       2   D  D  D  D  D  D  D\n",
      "                       3   D  D  D  D  D  D  D\n",
      "                       4   L  D  D  D  D  D  D\n",
      " \n",
      "Escoja sus movimientos, la máquina jugará automáticamente después de usted.\n",
      "Debe escoger la posicion de la fila y columna. Por ejemplo: 13 es fila 1 columna 3\n",
      "1\n",
      "JUGADOR:\n",
      "                      f\\c  1  2  3  4  5  6  7\n",
      "                       1   D  D  D  D  D  D  X\n",
      "                       2   D  D  D  D  D  D  X\n",
      "                       3   D  D  D  D  D  D  D\n",
      "                       4   L  D  D  D  D  D  D\n",
      "MÁQUINA:\n",
      "                      f\\c  1  2  3  4  5  6  7\n",
      "                       1   D  D  D  D  D  X  X\n",
      "                       2   D  D  D  D  D  X  X\n",
      "                       3   D  D  D  D  D  X  X\n",
      "                       4   L  D  D  D  D  D  D\n",
      "2\n",
      "JUGADOR:\n",
      "                      f\\c  1  2  3  4  5  6  7\n",
      "                       1   D  X  X  X  X  X  X\n",
      "                       2   D  X  X  X  X  X  X\n",
      "                       3   D  X  X  X  X  X  X\n",
      "                       4   L  D  D  D  D  D  D\n",
      "MÁQUINA:\n",
      "                      f\\c  1  2  3  4  5  6  7\n",
      "                       1   D  X  X  X  X  X  X\n",
      "                       2   D  X  X  X  X  X  X\n",
      "                       3   D  X  X  X  X  X  X\n",
      "                       4   L  X  X  X  X  X  X\n",
      "3\n",
      "JUGADOR:\n",
      "                      f\\c  1  2  3  4  5  6  7\n",
      "                       1   X  X  X  X  X  X  X\n",
      "                       2   D  X  X  X  X  X  X\n",
      "                       3   D  X  X  X  X  X  X\n",
      "                       4   L  X  X  X  X  X  X\n",
      "MÁQUINA:\n",
      "                      f\\c  1  2  3  4  5  6  7\n",
      "                       1   X  X  X  X  X  X  X\n",
      "                       2   X  X  X  X  X  X  X\n",
      "                       3   D  X  X  X  X  X  X\n",
      "                       4   L  X  X  X  X  X  X\n",
      "4\n",
      "JUGADOR:\n",
      "                      f\\c  1  2  3  4  5  6  7\n",
      "                       1   X  X  X  X  X  X  X\n",
      "                       2   X  X  X  X  X  X  X\n",
      "                       3   X  X  X  X  X  X  X\n",
      "                       4   L  X  X  X  X  X  X\n",
      "MÁQUINA:\n",
      "                      f\\c  1  2  3  4  5  6  7\n",
      "                       1   X  X  X  X  X  X  X\n",
      "                       2   X  X  X  X  X  X  X\n",
      "                       3   X  X  X  X  X  X  X\n",
      "                       4   X  X  X  X  X  X  X\n",
      "GANÓ EL JUGADOR\n"
     ]
    },
    {
     "data": {
      "text/plain": [
       "('4x7', [27, 32, 11, 31], ['0', '36', '42', 21, 41], -1)"
      ]
     },
     "execution_count": 317,
     "metadata": {},
     "output_type": "execute_result"
    }
   ],
   "source": [
    "juego2(tamano=\"4x7\")"
   ]
  },
  {
   "cell_type": "markdown",
   "metadata": {},
   "source": [
    "# Mejorar el algoritmo para tamaño 4x7"
   ]
  },
  {
   "cell_type": "code",
   "execution_count": 26,
   "metadata": {},
   "outputs": [
    {
     "name": "stdout",
     "output_type": "stream",
     "text": [
      "CPU times: user 9min 21s, sys: 2.65 s, total: 9min 24s\n",
      "Wall time: 9min 25s\n"
     ]
    }
   ],
   "source": [
    "%%time\n",
    "# PARA TAMAÑO 4x7\n",
    "simulaciones = 300\n",
    "tamano = \"4x7\"\n",
    "primerasjugadas = primeras_jugadas(tamano)\n",
    "\n",
    "for primerajugada in primerasjugadas:\n",
    "    for simulacion in range(simulaciones):\n",
    "        tamano,jugadas_jugador,jugadas_computadora,resultado = juego2(tamano=tamano,primera_jugada=primerajugada)\n",
    "        datos[\"tamano\"].append(tamano)\n",
    "        datos[\"jugadas_jugador\"].append(jugadas_jugador)\n",
    "        datos[\"jugadas_computadora\"].append(jugadas_computadora)\n",
    "        datos[\"resultado\"].append(resultado)"
   ]
  },
  {
   "cell_type": "code",
   "execution_count": 84,
   "metadata": {},
   "outputs": [],
   "source": [
    "#print(\"TURNO 1\")\n",
    "#instancia_creada = crear_instancia(tamano=\"4x7\",turno=1,jugada_jugador=\"27\")\n",
    "#respuesta = mejor_respuesta(turno=1,instancia=instancia_creada)\n",
    "#print(respuesta)\n",
    "#print(\"TURNO 2\")\n",
    "#instancia_creada = crear_instancia(tamano=\"4x7\",turno=2,jugada_jugador=\"34\",df=instancia_creada,jugada_computadora=respuesta)\n",
    "#respuesta = mejor_respuesta(turno=2,instancia=instancia_creada)\n",
    "#print(respuesta)\n",
    "#print(\"TURNO 3\")\n",
    "#instancia_creada = crear_instancia(tamano=\"4x7\",turno=3,jugada_jugador=\"47\",df=instancia_creada,jugada_computadora=respuesta)2\n",
    "#instancia_creada\n",
    "#respuesta\n",
    "#respuesta\n",
    "#instancia = crear_instancia(turno=3,jugada_jugador=\"21\",df=instancia,jugada_computadora=)"
   ]
  },
  {
   "cell_type": "markdown",
   "metadata": {},
   "source": [
    "# Computadora vs computadora"
   ]
  },
  {
   "cell_type": "code",
   "execution_count": 916,
   "metadata": {},
   "outputs": [],
   "source": [
    "def juego3(tamano = \"2x3\",primera_jugada=\"0\"):\n",
    "    filas = int(tamano[0])\n",
    "    columnas=int(tamano[2])\n",
    "    \n",
    "    #print(\" \")\n",
    "    matriz = crear_matriz(filas,columnas)\n",
    "    #imprimir(matriz)\n",
    "    #print(\" \")\n",
    "    \n",
    "    #print(\"Escoja sus movimientos, la máquina jugará automáticamente después de usted.\\nDebe escoger la posicion de la fila y columna. Por ejemplo: 13 es fila 1 columna 3\")\n",
    "    jugar = True\n",
    "    jugadas_jugador = []\n",
    "    jugadas_computadora = [\"0\"]\n",
    "    turno=1\n",
    "    if primera_jugada!=\"0\":\n",
    "        #print(turno)\n",
    "        #print(\"JUGADOR:\")\n",
    "        eliminar_manual(int(primera_jugada[0]),int(primera_jugada[1]),matriz)\n",
    "        jugadas_jugador.append(int(primera_jugada))\n",
    "        instancia_c_j = crear_instancia(turno=turno,tamano=tamano,jugada_jugador=primera_jugada)\n",
    "        #imprimir(matriz)\n",
    "    \n",
    "    while jugar:\n",
    "        if primera_jugada==\"0\" or turno>1:\n",
    "            #print(\"JUGADOR:\")\n",
    "            try:\n",
    "                instancia_c_j = crear_instancia(tamano=tamano,turno=turno,df=instancia_c_j,jugada_computadora=jugadas_computadora[turno-1])\n",
    "                best_response = mejor_respuesta_jugador(turno=turno,instancia=instancia_c_j)\n",
    "                sirve = best_response[1]\n",
    "                if sirve<=0:\n",
    "                    best_response_j = str(best_response[0])\n",
    "                \n",
    "                    instancia_c_j=crear_instancia(turno=turno,tamano=tamano,df=instancia_c_j,jugada_jugador=best_response_j)\n",
    "                else:\n",
    "                    #print(\"NO SIRVE BR\")\n",
    "                    jugada = eliminacion(matriz)\n",
    "                    best_response_j = str(jugada[0]+1)+str(jugada[1]+1)\n",
    "                jugadas_jugador.append(int(best_response_j))\n",
    "                jugar = eliminar_manual(int(best_response_j[0]),int(best_response_j[1]),matriz)\n",
    "            except:\n",
    "                #print(\"NO INTELIGENTE\")\n",
    "                jugada = eliminacion(matriz)\n",
    "                jugadas_jugador.append(int(str(jugada[0]+1)+str(jugada[1]+1)))\n",
    "                jugar = jugada[2]\n",
    "            \n",
    "            #imprimir(matriz)\n",
    "            \n",
    "        if jugar ==True:\n",
    "            #print(\"MÁQUINA:\")\n",
    "            try:\n",
    "                if turno==1:\n",
    "                    instancia_c = crear_instancia(tamano=tamano,turno=turno,jugada_jugador=jugadas_jugador[turno-1],jugada_computadora=jugadas_computadora[turno-1])\n",
    "                else:\n",
    "                    #print(jugadas_jugador[turno-1])\n",
    "                    #print(jugadas_computadora[turno-1])\n",
    "                    instancia_c = crear_instancia(tamano=tamano,turno=turno,df=instancia_c,jugada_jugador=jugadas_jugador[turno-1],jugada_computadora=jugadas_computadora[turno-1])\n",
    "                best_response = mejor_respuesta(turno=turno,instancia=instancia_c)\n",
    "                sirve = best_response[1]\n",
    "                if sirve>0:\n",
    "                    best_response_c = str(best_response[0])               \n",
    "                    \n",
    "                else:\n",
    "                    #print(\"NO SIRVE BR\")\n",
    "                    jugada = eliminacion(matriz)\n",
    "                    best_response_c = str(jugada[0]+1)+str(jugada[1]+1)\n",
    "                jugadas_computadora.append(int(best_response_c))\n",
    "                jugar = eliminar_manual(int(best_response_c[0]),int(best_response_c[1]),matriz)\n",
    "            except:\n",
    "                #print(\"NO INTELIGENTE\")\n",
    "                jugada = eliminacion(matriz)\n",
    "                jugadas_computadora.append(int(str(jugada[0]+1)+str(jugada[1]+1)))\n",
    "                jugar = jugada[2]\n",
    "            #imprimir(matriz)\n",
    "            if jugar == False:\n",
    "                respuesta = -1\n",
    "        else:\n",
    "            respuesta = 1\n",
    "            break\n",
    "        \n",
    "        turno+=1\n",
    "    if respuesta ==-1:\n",
    "        pass\n",
    "        #print(\"GANÓ EL JUGADOR\")\n",
    "    else:\n",
    "        pass\n",
    "    #print(\"GANÓ LA MÁQUINA\")\n",
    "\n",
    "    return tamano,jugadas_jugador,jugadas_computadora[1:],respuesta"
   ]
  },
  {
   "cell_type": "code",
   "execution_count": null,
   "metadata": {},
   "outputs": [],
   "source": []
  },
  {
   "cell_type": "code",
   "execution_count": 797,
   "metadata": {},
   "outputs": [
    {
     "name": "stdout",
     "output_type": "stream",
     "text": [
      "CPU times: user 56min 16s, sys: 2min, total: 58min 16s\n",
      "Wall time: 1h 2min 47s\n"
     ]
    }
   ],
   "source": [
    "%%time\n",
    "# PARA TAMAÑO 4x7\n",
    "simulaciones = 400\n",
    "tamano = \"4x7\"\n",
    "primerasjugadas = primeras_jugadas(tamano)\n",
    "\n",
    "for primerajugada in primerasjugadas:\n",
    "    for simulacion in range(simulaciones+1):\n",
    "        tamano,jugadas_jugador,jugadas_computadora,resultado = juego3(tamano=tamano,primera_jugada=primerajugada)\n",
    "        new_row = {\"tamano\":tamano,\"jugadas_jugador\":jugadas_jugador,\"jugadas_computadora\":jugadas_computadora,\"resultado\":resultado}\n",
    "        df = df.append(new_row,ignore_index=True)\n",
    "        if simulacion%10==0:\n",
    "            df[\"new_jugadas_jugador\"]=df.jugadas_jugador.apply(tuple)\n",
    "            df[\"new_jugadas_computadora\"]=df.jugadas_computadora.apply(tuple)\n",
    "            df.drop_duplicates(subset = ['new_jugadas_jugador','new_jugadas_computadora'],ignore_index=True,inplace=True)\n"
   ]
  },
  {
   "cell_type": "code",
   "execution_count": 918,
   "metadata": {},
   "outputs": [
    {
     "name": "stdout",
     "output_type": "stream",
     "text": [
      "CPU times: user 1min 28s, sys: 2.4 s, total: 1min 30s\n",
      "Wall time: 2min 4s\n"
     ]
    },
    {
     "data": {
      "text/plain": [
       "[('11', 3),\n",
       " ('12', 1),\n",
       " ('13', -1),\n",
       " ('14', 1),\n",
       " ('15', -1),\n",
       " ('16', -5),\n",
       " ('17', -3),\n",
       " ('21', -7),\n",
       " ('22', -5),\n",
       " ('23', -1),\n",
       " ('24', 3),\n",
       " ('25', -9),\n",
       " ('26', 3),\n",
       " ('27', 1),\n",
       " ('31', 11),\n",
       " ('32', 11),\n",
       " ('33', 11),\n",
       " ('34', -11),\n",
       " ('35', 11),\n",
       " ('36', 11),\n",
       " ('37', -3),\n",
       " ('42', 11),\n",
       " ('43', -7),\n",
       " ('44', 11),\n",
       " ('45', -5),\n",
       " ('46', 3),\n",
       " ('47', 1)]"
      ]
     },
     "execution_count": 918,
     "metadata": {},
     "output_type": "execute_result"
    }
   ],
   "source": [
    "%%time\n",
    "r = []\n",
    "simulaciones=10\n",
    "tamano = \"4x7\"\n",
    "primerasjugadas = primeras_jugadas(tamano)\n",
    "\n",
    "for primerajugada in primerasjugadas:\n",
    "    cantidad =0\n",
    "    for simulacion in range(simulaciones+1):\n",
    "        tamano,jugadas_jugador,jugadas_computadora,resultado = juego3(tamano=tamano,primera_jugada=primerajugada)\n",
    "        cantidad+=resultado\n",
    "    \n",
    "    r.append((primerajugada,cantidad))\n",
    "r"
   ]
  },
  {
   "cell_type": "code",
   "execution_count": 919,
   "metadata": {},
   "outputs": [
    {
     "data": {
      "text/plain": [
       "('4x7', [21, 45, 43, 42], [34, 44, 31, 41], -1)"
      ]
     },
     "execution_count": 919,
     "metadata": {},
     "output_type": "execute_result"
    }
   ],
   "source": [
    "juego3(tamano=\"4x7\",primera_jugada=\"21\")"
   ]
  },
  {
   "cell_type": "code",
   "execution_count": 803,
   "metadata": {},
   "outputs": [],
   "source": [
    "primeras_jugadas_analizar = []\n",
    "\n",
    "for tupla in r:\n",
    "    if tupla[1]<0:\n",
    "        primeras_jugadas_analizar.append(tupla[0])"
   ]
  },
  {
   "cell_type": "code",
   "execution_count": 829,
   "metadata": {},
   "outputs": [
    {
     "name": "stdout",
     "output_type": "stream",
     "text": [
      "CPU times: user 12min 12s, sys: 11.4 s, total: 12min 24s\n",
      "Wall time: 12min 28s\n"
     ]
    }
   ],
   "source": [
    "%%time\n",
    "# PARA TAMAÑO 4x7\n",
    "simulaciones = 1000\n",
    "tamano = \"4x7\"\n",
    "\n",
    "for primerajugada in primeras_jugadas_analizar:\n",
    "    for simulacion in range(simulaciones+1):\n",
    "        tamano,jugadas_jugador,jugadas_computadora,resultado = juego3(tamano=tamano,primera_jugada=primerajugada)\n",
    "        new_row = {\"tamano\":tamano,\"jugadas_jugador\":jugadas_jugador,\"jugadas_computadora\":jugadas_computadora,\"resultado\":resultado}\n",
    "        df = df.append(new_row,ignore_index=True)\n",
    "        if simulacion%10==0:\n",
    "            df[\"new_jugadas_jugador\"]=df.jugadas_jugador.apply(tuple)\n",
    "            df[\"new_jugadas_computadora\"]=df.jugadas_computadora.apply(tuple)\n",
    "            df.drop_duplicates(subset = ['new_jugadas_jugador','new_jugadas_computadora'],ignore_index=True,inplace=True)\n"
   ]
  },
  {
   "cell_type": "code",
   "execution_count": 832,
   "metadata": {},
   "outputs": [],
   "source": [
    "df.to_csv(\"datos_entrenamiento.csv\")"
   ]
  },
  {
   "cell_type": "code",
   "execution_count": 808,
   "metadata": {
    "collapsed": true,
    "jupyter": {
     "outputs_hidden": true,
     "source_hidden": true
    }
   },
   "outputs": [
    {
     "name": "stdout",
     "output_type": "stream",
     "text": [
      "CPU times: user 11min 50s, sys: 17.9 s, total: 12min 8s\n",
      "Wall time: 14min 46s\n"
     ]
    },
    {
     "data": {
      "text/plain": [
       "[('11', -11),\n",
       " ('12', 11),\n",
       " ('13', -11),\n",
       " ('14', -3),\n",
       " ('15', -7),\n",
       " ('16', 7),\n",
       " ('17', -9),\n",
       " ('21', -101),\n",
       " ('22', 9),\n",
       " ('23', -15),\n",
       " ('24', -101),\n",
       " ('25', 19),\n",
       " ('26', 21),\n",
       " ('27', 9),\n",
       " ('31', 101),\n",
       " ('32', 101),\n",
       " ('33', 101),\n",
       " ('34', 35),\n",
       " ('35', -49),\n",
       " ('36', 101),\n",
       " ('37', -7),\n",
       " ('42', 101),\n",
       " ('43', -101),\n",
       " ('44', 101),\n",
       " ('45', 25),\n",
       " ('46', 9),\n",
       " ('47', -15)]"
      ]
     },
     "execution_count": 808,
     "metadata": {},
     "output_type": "execute_result"
    }
   ],
   "source": [
    "%%time\n",
    "r = []\n",
    "simulaciones=100\n",
    "tamano = \"4x7\"\n",
    "primerasjugadas = primeras_jugadas(tamano)\n",
    "\n",
    "for primerajugada in primerasjugadas:\n",
    "    cantidad =0\n",
    "    for simulacion in range(simulaciones+1):\n",
    "        tamano,jugadas_jugador,jugadas_computadora,resultado = juego3(tamano=tamano,primera_jugada=primerajugada)\n",
    "        cantidad+=resultado\n",
    "    \n",
    "    r.append((primerajugada,cantidad))\n",
    "r"
   ]
  },
  {
   "cell_type": "code",
   "execution_count": 823,
   "metadata": {
    "collapsed": true,
    "jupyter": {
     "outputs_hidden": true,
     "source_hidden": true
    }
   },
   "outputs": [
    {
     "data": {
      "text/plain": [
       "['21', '24', '43']"
      ]
     },
     "execution_count": 823,
     "metadata": {},
     "output_type": "execute_result"
    }
   ],
   "source": [
    "primeras_jugadas_analizar=[]\n",
    "for tupla in r:\n",
    "    if tupla[1]==-101:\n",
    "        primeras_jugadas_analizar.append(str(tupla[0]))\n",
    "primeras_jugadas_analizar"
   ]
  },
  {
   "cell_type": "code",
   "execution_count": 773,
   "metadata": {
    "collapsed": true,
    "jupyter": {
     "outputs_hidden": true,
     "source_hidden": true
    }
   },
   "outputs": [
    {
     "data": {
      "text/html": [
       "<div>\n",
       "<style scoped>\n",
       "    .dataframe tbody tr th:only-of-type {\n",
       "        vertical-align: middle;\n",
       "    }\n",
       "\n",
       "    .dataframe tbody tr th {\n",
       "        vertical-align: top;\n",
       "    }\n",
       "\n",
       "    .dataframe thead th {\n",
       "        text-align: right;\n",
       "    }\n",
       "</style>\n",
       "<table border=\"1\" class=\"dataframe\">\n",
       "  <thead>\n",
       "    <tr style=\"text-align: right;\">\n",
       "      <th></th>\n",
       "      <th>tamano</th>\n",
       "      <th>jugadas_jugador</th>\n",
       "      <th>jugadas_computadora</th>\n",
       "      <th>resultado</th>\n",
       "      <th>new_jugadas_jugador</th>\n",
       "      <th>new_jugadas_computadora</th>\n",
       "      <th>1</th>\n",
       "      <th>2c</th>\n",
       "      <th>2r</th>\n",
       "      <th>2</th>\n",
       "    </tr>\n",
       "  </thead>\n",
       "  <tbody>\n",
       "  </tbody>\n",
       "</table>\n",
       "</div>"
      ],
      "text/plain": [
       "Empty DataFrame\n",
       "Columns: [tamano, jugadas_jugador, jugadas_computadora, resultado, new_jugadas_jugador, new_jugadas_computadora, 1, 2c, 2r, 2]\n",
       "Index: []"
      ]
     },
     "execution_count": 773,
     "metadata": {},
     "output_type": "execute_result"
    }
   ],
   "source": [
    "turno = 1\n",
    "instancia=crear_instancia(tamano=\"2x3\",df=df,jugada_jugador=\"13\")\n",
    "turno=2\n",
    "instancia = crear_instancia(tamano=\"2x3\",turno=turno,df=instancia,jugada_computadora=\"11\")\n",
    "br = mejor_respuesta_jugador(turno=2,instancia=instancia)\n",
    "best_response_j = br[0]\n",
    "crear_instancia(turno=turno,tamano=tamano,df=instancia,jugada_jugador=best_response_j)\n",
    "#instancia_c_j=crear_instancia(turno=turno,tamano=tamano,df=instancia_c_j,jugada_jugador=best_response_j)"
   ]
  },
  {
   "cell_type": "code",
   "execution_count": 608,
   "metadata": {
    "jupyter": {
     "source_hidden": true
    }
   },
   "outputs": [
    {
     "data": {
      "text/plain": [
       "'22'"
      ]
     },
     "execution_count": 608,
     "metadata": {},
     "output_type": "execute_result"
    }
   ],
   "source": [
    "instancia=crear_instancia(tamano=\"2x3\",df=df,jugada_jugador=\"13\")\n",
    "instancia = crear_instancia(turno=2,df=instancia,jugada_computadora=\"11\")\n",
    "best_response_j = mejor_respuesta_jugador(turno=2,instancia=instancia)\n",
    "#best_response_j\n",
    "#for i in range(len(instancia)):\n",
    " #   print(instancia.loc[i,\"jugadas_computadora\"][0])\n",
    "best_response_j       "
   ]
  },
  {
   "cell_type": "code",
   "execution_count": 910,
   "metadata": {},
   "outputs": [
    {
     "name": "stdout",
     "output_type": "stream",
     "text": [
      " \n",
      "                      f\\c  1  2  3  4  5  6  7\n",
      "                       1   D  D  D  D  D  D  D\n",
      "                       2   D  D  D  D  D  D  D\n",
      "                       3   D  D  D  D  D  D  D\n",
      "                       4   L  D  D  D  D  D  D\n",
      " \n",
      "Escoja sus movimientos, la máquina jugará automáticamente después de usted.\n",
      "Debe escoger la posicion de la fila y columna. Por ejemplo: 13 es fila 1 columna 3\n",
      "1\n",
      "JUGADOR:\n",
      "                      f\\c  1  2  3  4  5  6  7\n",
      "                       1   X  X  X  X  X  X  X\n",
      "                       2   X  X  X  X  X  X  X\n",
      "                       3   D  D  D  D  D  D  D\n",
      "                       4   L  D  D  D  D  D  D\n",
      "MÁQUINA:\n",
      "                      f\\c  1  2  3  4  5  6  7\n",
      "                       1   X  X  X  X  X  X  X\n",
      "                       2   X  X  X  X  X  X  X\n",
      "                       3   D  D  D  X  X  X  X\n",
      "                       4   L  D  D  D  D  D  D\n",
      "JUGADOR:\n",
      "                      f\\c  1  2  3  4  5  6  7\n",
      "                       1   X  X  X  X  X  X  X\n",
      "                       2   X  X  X  X  X  X  X\n",
      "                       3   D  D  D  X  X  X  X\n",
      "                       4   L  D  D  D  X  X  X\n",
      "MÁQUINA:\n",
      "45\n",
      "34\n",
      "NO SIRVE BR\n",
      "                      f\\c  1  2  3  4  5  6  7\n",
      "                       1   X  X  X  X  X  X  X\n",
      "                       2   X  X  X  X  X  X  X\n",
      "                       3   D  X  X  X  X  X  X\n",
      "                       4   L  D  D  D  X  X  X\n",
      "JUGADOR:\n",
      "                      f\\c  1  2  3  4  5  6  7\n",
      "                       1   X  X  X  X  X  X  X\n",
      "                       2   X  X  X  X  X  X  X\n",
      "                       3   D  X  X  X  X  X  X\n",
      "                       4   L  D  D  X  X  X  X\n",
      "MÁQUINA:\n",
      "44\n",
      "32\n",
      "NO SIRVE BR\n",
      "                      f\\c  1  2  3  4  5  6  7\n",
      "                       1   X  X  X  X  X  X  X\n",
      "                       2   X  X  X  X  X  X  X\n",
      "                       3   X  X  X  X  X  X  X\n",
      "                       4   L  D  D  X  X  X  X\n",
      "JUGADOR:\n",
      "NO INTELIGENTE\n",
      "                      f\\c  1  2  3  4  5  6  7\n",
      "                       1   X  X  X  X  X  X  X\n",
      "                       2   X  X  X  X  X  X  X\n",
      "                       3   X  X  X  X  X  X  X\n",
      "                       4   L  D  X  X  X  X  X\n",
      "MÁQUINA:\n",
      "43\n",
      "31\n",
      "NO INTELIGENTE\n",
      "                      f\\c  1  2  3  4  5  6  7\n",
      "                       1   X  X  X  X  X  X  X\n",
      "                       2   X  X  X  X  X  X  X\n",
      "                       3   X  X  X  X  X  X  X\n",
      "                       4   L  X  X  X  X  X  X\n",
      "JUGADOR:\n",
      "NO INTELIGENTE\n",
      "                      f\\c  1  2  3  4  5  6  7\n",
      "                       1   X  X  X  X  X  X  X\n",
      "                       2   X  X  X  X  X  X  X\n",
      "                       3   X  X  X  X  X  X  X\n",
      "                       4   X  X  X  X  X  X  X\n"
     ]
    },
    {
     "data": {
      "text/plain": [
       "('4x7', [21, 45, 44, 43, 41], [34, 32, 31, 42], 1)"
      ]
     },
     "execution_count": 910,
     "metadata": {},
     "output_type": "execute_result"
    }
   ],
   "source": [
    "juego3(tamano=\"4x7\",primera_jugada=\"21\")"
   ]
  },
  {
   "cell_type": "code",
   "execution_count": 902,
   "metadata": {},
   "outputs": [
    {
     "data": {
      "text/html": [
       "<div>\n",
       "<style scoped>\n",
       "    .dataframe tbody tr th:only-of-type {\n",
       "        vertical-align: middle;\n",
       "    }\n",
       "\n",
       "    .dataframe tbody tr th {\n",
       "        vertical-align: top;\n",
       "    }\n",
       "\n",
       "    .dataframe thead th {\n",
       "        text-align: right;\n",
       "    }\n",
       "</style>\n",
       "<table border=\"1\" class=\"dataframe\">\n",
       "  <thead>\n",
       "    <tr style=\"text-align: right;\">\n",
       "      <th></th>\n",
       "      <th>tamano</th>\n",
       "      <th>jugadas_jugador</th>\n",
       "      <th>jugadas_computadora</th>\n",
       "      <th>resultado</th>\n",
       "      <th>new_jugadas_jugador</th>\n",
       "      <th>new_jugadas_computadora</th>\n",
       "      <th>1</th>\n",
       "      <th>2c</th>\n",
       "      <th>2r</th>\n",
       "      <th>2</th>\n",
       "    </tr>\n",
       "  </thead>\n",
       "  <tbody>\n",
       "    <tr>\n",
       "      <th>0</th>\n",
       "      <td>4x7</td>\n",
       "      <td>[21, 45, 31, 41]</td>\n",
       "      <td>[34, 43, 42]</td>\n",
       "      <td>1</td>\n",
       "      <td>(21, 45, 31, 41)</td>\n",
       "      <td>(34, 43, 42)</td>\n",
       "      <td>True</td>\n",
       "      <td>True</td>\n",
       "      <td>False</td>\n",
       "      <td>True</td>\n",
       "    </tr>\n",
       "    <tr>\n",
       "      <th>1</th>\n",
       "      <td>4x7</td>\n",
       "      <td>[21, 45, 31]</td>\n",
       "      <td>[34, 42, 41]</td>\n",
       "      <td>-1</td>\n",
       "      <td>(21, 45, 31)</td>\n",
       "      <td>(34, 42, 41)</td>\n",
       "      <td>True</td>\n",
       "      <td>True</td>\n",
       "      <td>False</td>\n",
       "      <td>True</td>\n",
       "    </tr>\n",
       "    <tr>\n",
       "      <th>2</th>\n",
       "      <td>4x7</td>\n",
       "      <td>[21, 45, 44, 42]</td>\n",
       "      <td>[34, 31, 43, 41]</td>\n",
       "      <td>-1</td>\n",
       "      <td>(21, 45, 44, 42)</td>\n",
       "      <td>(34, 31, 43, 41)</td>\n",
       "      <td>True</td>\n",
       "      <td>True</td>\n",
       "      <td>False</td>\n",
       "      <td>True</td>\n",
       "    </tr>\n",
       "    <tr>\n",
       "      <th>3</th>\n",
       "      <td>4x7</td>\n",
       "      <td>[21, 45, 32, 42]</td>\n",
       "      <td>[34, 43, 31, 41]</td>\n",
       "      <td>-1</td>\n",
       "      <td>(21, 45, 32, 42)</td>\n",
       "      <td>(34, 43, 31, 41)</td>\n",
       "      <td>True</td>\n",
       "      <td>True</td>\n",
       "      <td>False</td>\n",
       "      <td>True</td>\n",
       "    </tr>\n",
       "    <tr>\n",
       "      <th>4</th>\n",
       "      <td>4x7</td>\n",
       "      <td>[21, 45, 44, 41]</td>\n",
       "      <td>[34, 31, 42]</td>\n",
       "      <td>1</td>\n",
       "      <td>(21, 45, 44, 41)</td>\n",
       "      <td>(34, 31, 42)</td>\n",
       "      <td>True</td>\n",
       "      <td>True</td>\n",
       "      <td>False</td>\n",
       "      <td>True</td>\n",
       "    </tr>\n",
       "    <tr>\n",
       "      <th>5</th>\n",
       "      <td>4x7</td>\n",
       "      <td>[21, 45, 42, 41]</td>\n",
       "      <td>[34, 43, 31]</td>\n",
       "      <td>1</td>\n",
       "      <td>(21, 45, 42, 41)</td>\n",
       "      <td>(34, 43, 31)</td>\n",
       "      <td>True</td>\n",
       "      <td>True</td>\n",
       "      <td>False</td>\n",
       "      <td>True</td>\n",
       "    </tr>\n",
       "    <tr>\n",
       "      <th>6</th>\n",
       "      <td>4x7</td>\n",
       "      <td>[21, 45, 33, 42, 41]</td>\n",
       "      <td>[34, 44, 43, 31]</td>\n",
       "      <td>1</td>\n",
       "      <td>(21, 45, 33, 42, 41)</td>\n",
       "      <td>(34, 44, 43, 31)</td>\n",
       "      <td>True</td>\n",
       "      <td>True</td>\n",
       "      <td>False</td>\n",
       "      <td>True</td>\n",
       "    </tr>\n",
       "    <tr>\n",
       "      <th>7</th>\n",
       "      <td>4x7</td>\n",
       "      <td>[21, 45, 42]</td>\n",
       "      <td>[34, 31, 41]</td>\n",
       "      <td>-1</td>\n",
       "      <td>(21, 45, 42)</td>\n",
       "      <td>(34, 31, 41)</td>\n",
       "      <td>True</td>\n",
       "      <td>True</td>\n",
       "      <td>False</td>\n",
       "      <td>True</td>\n",
       "    </tr>\n",
       "    <tr>\n",
       "      <th>8</th>\n",
       "      <td>4x7</td>\n",
       "      <td>[21, 45, 44, 31]</td>\n",
       "      <td>[34, 32, 42, 41]</td>\n",
       "      <td>-1</td>\n",
       "      <td>(21, 45, 44, 31)</td>\n",
       "      <td>(34, 32, 42, 41)</td>\n",
       "      <td>True</td>\n",
       "      <td>True</td>\n",
       "      <td>False</td>\n",
       "      <td>True</td>\n",
       "    </tr>\n",
       "    <tr>\n",
       "      <th>9</th>\n",
       "      <td>4x7</td>\n",
       "      <td>[21, 45, 43, 42]</td>\n",
       "      <td>[34, 44, 31, 41]</td>\n",
       "      <td>-1</td>\n",
       "      <td>(21, 45, 43, 42)</td>\n",
       "      <td>(34, 44, 31, 41)</td>\n",
       "      <td>True</td>\n",
       "      <td>True</td>\n",
       "      <td>False</td>\n",
       "      <td>True</td>\n",
       "    </tr>\n",
       "    <tr>\n",
       "      <th>10</th>\n",
       "      <td>4x7</td>\n",
       "      <td>[21, 45, 32, 31]</td>\n",
       "      <td>[34, 43, 42, 41]</td>\n",
       "      <td>-1</td>\n",
       "      <td>(21, 45, 32, 31)</td>\n",
       "      <td>(34, 43, 42, 41)</td>\n",
       "      <td>True</td>\n",
       "      <td>True</td>\n",
       "      <td>False</td>\n",
       "      <td>True</td>\n",
       "    </tr>\n",
       "  </tbody>\n",
       "</table>\n",
       "</div>"
      ],
      "text/plain": [
       "   tamano       jugadas_jugador jugadas_computadora  resultado  \\\n",
       "0     4x7      [21, 45, 31, 41]        [34, 43, 42]          1   \n",
       "1     4x7          [21, 45, 31]        [34, 42, 41]         -1   \n",
       "2     4x7      [21, 45, 44, 42]    [34, 31, 43, 41]         -1   \n",
       "3     4x7      [21, 45, 32, 42]    [34, 43, 31, 41]         -1   \n",
       "4     4x7      [21, 45, 44, 41]        [34, 31, 42]          1   \n",
       "5     4x7      [21, 45, 42, 41]        [34, 43, 31]          1   \n",
       "6     4x7  [21, 45, 33, 42, 41]    [34, 44, 43, 31]          1   \n",
       "7     4x7          [21, 45, 42]        [34, 31, 41]         -1   \n",
       "8     4x7      [21, 45, 44, 31]    [34, 32, 42, 41]         -1   \n",
       "9     4x7      [21, 45, 43, 42]    [34, 44, 31, 41]         -1   \n",
       "10    4x7      [21, 45, 32, 31]    [34, 43, 42, 41]         -1   \n",
       "\n",
       "     new_jugadas_jugador new_jugadas_computadora     1    2c     2r     2  \n",
       "0       (21, 45, 31, 41)            (34, 43, 42)  True  True  False  True  \n",
       "1           (21, 45, 31)            (34, 42, 41)  True  True  False  True  \n",
       "2       (21, 45, 44, 42)        (34, 31, 43, 41)  True  True  False  True  \n",
       "3       (21, 45, 32, 42)        (34, 43, 31, 41)  True  True  False  True  \n",
       "4       (21, 45, 44, 41)            (34, 31, 42)  True  True  False  True  \n",
       "5       (21, 45, 42, 41)            (34, 43, 31)  True  True  False  True  \n",
       "6   (21, 45, 33, 42, 41)        (34, 44, 43, 31)  True  True  False  True  \n",
       "7           (21, 45, 42)            (34, 31, 41)  True  True  False  True  \n",
       "8       (21, 45, 44, 31)        (34, 32, 42, 41)  True  True  False  True  \n",
       "9       (21, 45, 43, 42)        (34, 44, 31, 41)  True  True  False  True  \n",
       "10      (21, 45, 32, 31)        (34, 43, 42, 41)  True  True  False  True  "
      ]
     },
     "execution_count": 902,
     "metadata": {},
     "output_type": "execute_result"
    }
   ],
   "source": [
    "#JUGADOR\n",
    "turno=1\n",
    "instancia=crear_instancia(tamano=\"4x7\",df=df,jugada_jugador=\"21\") #actualizo\n",
    "\n",
    "turno=2\n",
    "instancia = crear_instancia(tamano=\"4x7\",turno=2,df=instancia,jugada_computadora=\"34\") #j comput\n",
    "mejor_respuesta_jugador(turno=2,instancia = instancia)#hallo respuesta\n",
    "instancia=crear_instancia(turno=2,tamano=\"4x7\",df=instancia,jugada_jugador=\"45\") #actualizo\n",
    "#turno=3\n",
    "#instancia = crear_instancia(tamano=\"4x7\",turno=3,df=instancia,jugada_computadora=\"13\") #j comp\n",
    "#mejor_respuesta_jugador(turno=3,instancia = instancia)#hallo respuesta\n",
    "#instancia=crear_instancia(turno=3,tamano=\"4x7\",df=instancia,jugada_jugador=\"32\") #actualizo\n",
    "instancia"
   ]
  },
  {
   "cell_type": "code",
   "execution_count": 900,
   "metadata": {},
   "outputs": [
    {
     "name": "stdout",
     "output_type": "stream",
     "text": [
      "(34, 7)\n",
      "(43, 0)\n"
     ]
    },
    {
     "data": {
      "text/html": [
       "<div>\n",
       "<style scoped>\n",
       "    .dataframe tbody tr th:only-of-type {\n",
       "        vertical-align: middle;\n",
       "    }\n",
       "\n",
       "    .dataframe tbody tr th {\n",
       "        vertical-align: top;\n",
       "    }\n",
       "\n",
       "    .dataframe thead th {\n",
       "        text-align: right;\n",
       "    }\n",
       "</style>\n",
       "<table border=\"1\" class=\"dataframe\">\n",
       "  <thead>\n",
       "    <tr style=\"text-align: right;\">\n",
       "      <th></th>\n",
       "      <th>tamano</th>\n",
       "      <th>jugadas_jugador</th>\n",
       "      <th>jugadas_computadora</th>\n",
       "      <th>resultado</th>\n",
       "      <th>new_jugadas_jugador</th>\n",
       "      <th>new_jugadas_computadora</th>\n",
       "      <th>1</th>\n",
       "      <th>1r</th>\n",
       "      <th>2</th>\n",
       "      <th>2c</th>\n",
       "      <th>2r</th>\n",
       "      <th>3</th>\n",
       "      <th>3c</th>\n",
       "    </tr>\n",
       "  </thead>\n",
       "  <tbody>\n",
       "    <tr>\n",
       "      <th>0</th>\n",
       "      <td>4x7</td>\n",
       "      <td>[21, 45, 32, 42]</td>\n",
       "      <td>[34, 43, 31, 41]</td>\n",
       "      <td>-1</td>\n",
       "      <td>(21, 45, 32, 42)</td>\n",
       "      <td>(34, 43, 31, 41)</td>\n",
       "      <td>True</td>\n",
       "      <td>False</td>\n",
       "      <td>True</td>\n",
       "      <td>True</td>\n",
       "      <td>False</td>\n",
       "      <td>True</td>\n",
       "      <td>True</td>\n",
       "    </tr>\n",
       "    <tr>\n",
       "      <th>1</th>\n",
       "      <td>4x7</td>\n",
       "      <td>[21, 45, 32, 31]</td>\n",
       "      <td>[34, 43, 42, 41]</td>\n",
       "      <td>-1</td>\n",
       "      <td>(21, 45, 32, 31)</td>\n",
       "      <td>(34, 43, 42, 41)</td>\n",
       "      <td>True</td>\n",
       "      <td>False</td>\n",
       "      <td>True</td>\n",
       "      <td>True</td>\n",
       "      <td>False</td>\n",
       "      <td>True</td>\n",
       "      <td>True</td>\n",
       "    </tr>\n",
       "  </tbody>\n",
       "</table>\n",
       "</div>"
      ],
      "text/plain": [
       "  tamano   jugadas_jugador jugadas_computadora  resultado new_jugadas_jugador  \\\n",
       "0    4x7  [21, 45, 32, 42]    [34, 43, 31, 41]         -1    (21, 45, 32, 42)   \n",
       "1    4x7  [21, 45, 32, 31]    [34, 43, 42, 41]         -1    (21, 45, 32, 31)   \n",
       "\n",
       "  new_jugadas_computadora     1     1r     2    2c     2r     3    3c  \n",
       "0        (34, 43, 31, 41)  True  False  True  True  False  True  True  \n",
       "1        (34, 43, 42, 41)  True  False  True  True  False  True  True  "
      ]
     },
     "execution_count": 900,
     "metadata": {},
     "output_type": "execute_result"
    }
   ],
   "source": [
    "#COMPUTADORA\n",
    "tamano=\"4x7\"\n",
    "turno=1\n",
    "instancia = crear_instancia(tamano=tamano,turno=turno,jugada_jugador=\"21\",jugada_computadora=\"0\")\n",
    "print(mejor_respuesta(turno=turno,instancia=instancia))\n",
    "turno=2\n",
    "instancia = crear_instancia(tamano=tamano,turno=turno,df=instancia,jugada_jugador=\"45\",jugada_computadora=\"34\")\n",
    "print(mejor_respuesta(turno=turno,instancia=instancia))\n",
    "turno=3\n",
    "instancia = crear_instancia(tamano=tamano,df=instancia,turno=turno,jugada_jugador=\"32\",jugada_computadora=\"43\")\n",
    "#mejor_respuesta(turno=turno,instancia=instancia)\n",
    "instancia\n",
    "\n"
   ]
  },
  {
   "cell_type": "code",
   "execution_count": null,
   "metadata": {},
   "outputs": [],
   "source": []
  },
  {
   "cell_type": "code",
   "execution_count": 658,
   "metadata": {},
   "outputs": [
    {
     "data": {
      "text/html": [
       "<div>\n",
       "<style scoped>\n",
       "    .dataframe tbody tr th:only-of-type {\n",
       "        vertical-align: middle;\n",
       "    }\n",
       "\n",
       "    .dataframe tbody tr th {\n",
       "        vertical-align: top;\n",
       "    }\n",
       "\n",
       "    .dataframe thead th {\n",
       "        text-align: right;\n",
       "    }\n",
       "</style>\n",
       "<table border=\"1\" class=\"dataframe\">\n",
       "  <thead>\n",
       "    <tr style=\"text-align: right;\">\n",
       "      <th></th>\n",
       "      <th>jugadas_computadora</th>\n",
       "      <th>jugadas_jugador</th>\n",
       "      <th>2c</th>\n",
       "    </tr>\n",
       "  </thead>\n",
       "  <tbody>\n",
       "    <tr>\n",
       "      <th>60</th>\n",
       "      <td>[33, 11, 31]</td>\n",
       "      <td>[13, 42, 21, 41]</td>\n",
       "      <td>True</td>\n",
       "    </tr>\n",
       "    <tr>\n",
       "      <th>61</th>\n",
       "      <td>[34, 23, 11, 41]</td>\n",
       "      <td>[13, 46, 42, 31]</td>\n",
       "      <td>False</td>\n",
       "    </tr>\n",
       "    <tr>\n",
       "      <th>62</th>\n",
       "      <td>[33, 11, 31]</td>\n",
       "      <td>[13, 12, 42, 41]</td>\n",
       "      <td>True</td>\n",
       "    </tr>\n",
       "    <tr>\n",
       "      <th>63</th>\n",
       "      <td>[23, 47, 11, 21, 31, 42]</td>\n",
       "      <td>[13, 34, 33, 46, 32, 44, 41]</td>\n",
       "      <td>False</td>\n",
       "    </tr>\n",
       "    <tr>\n",
       "      <th>64</th>\n",
       "      <td>[25, 35, 31, 44, 42]</td>\n",
       "      <td>[13, 22, 11, 46, 43, 41]</td>\n",
       "      <td>False</td>\n",
       "    </tr>\n",
       "  </tbody>\n",
       "</table>\n",
       "</div>"
      ],
      "text/plain": [
       "         jugadas_computadora               jugadas_jugador     2c\n",
       "60              [33, 11, 31]              [13, 42, 21, 41]   True\n",
       "61          [34, 23, 11, 41]              [13, 46, 42, 31]  False\n",
       "62              [33, 11, 31]              [13, 12, 42, 41]   True\n",
       "63  [23, 47, 11, 21, 31, 42]  [13, 34, 33, 46, 32, 44, 41]  False\n",
       "64      [25, 35, 31, 44, 42]      [13, 22, 11, 46, 43, 41]  False"
      ]
     },
     "execution_count": 658,
     "metadata": {},
     "output_type": "execute_result"
    }
   ],
   "source": [
    "instancia.loc[60:64,[\"jugadas_computadora\",\"jugadas_jugador\",\"2c\"]]"
   ]
  },
  {
   "cell_type": "code",
   "execution_count": 649,
   "metadata": {},
   "outputs": [
    {
     "data": {
      "text/plain": [
       "60                [33, 11, 31]\n",
       "61            [34, 23, 11, 41]\n",
       "62                [33, 11, 31]\n",
       "63    [23, 47, 11, 21, 31, 42]\n",
       "64        [25, 35, 31, 44, 42]\n",
       "Name: jugadas_computadora, dtype: object"
      ]
     },
     "execution_count": 649,
     "metadata": {},
     "output_type": "execute_result"
    }
   ],
   "source": [
    "instancia.loc[60:64,\"jugadas_computadora\"]"
   ]
  },
  {
   "cell_type": "code",
   "execution_count": null,
   "metadata": {},
   "outputs": [],
   "source": []
  }
 ],
 "metadata": {
  "kernelspec": {
   "display_name": "Python 3",
   "language": "python",
   "name": "python3"
  },
  "language_info": {
   "codemirror_mode": {
    "name": "ipython",
    "version": 3
   },
   "file_extension": ".py",
   "mimetype": "text/x-python",
   "name": "python",
   "nbconvert_exporter": "python",
   "pygments_lexer": "ipython3",
   "version": "3.8.8"
  }
 },
 "nbformat": 4,
 "nbformat_minor": 4
}
